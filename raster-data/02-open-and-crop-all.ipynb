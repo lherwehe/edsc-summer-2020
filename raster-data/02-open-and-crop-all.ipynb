{
 "cells": [
  {
   "cell_type": "markdown",
   "metadata": {},
   "source": [
    "<img style=\"float: left;\" src=\"../earth-lab-logo-rgb.png\" width=\"150\" height=\"150\">\n",
    "\n",
    "# Earth Data Science Corps Summer 2020\n",
    "\n",
    "![Colored Bar](../colored-bar.png)"
   ]
  },
  {
   "cell_type": "markdown",
   "metadata": {},
   "source": [
    "<div class='notice--success' markdown=\"1\">\n",
    "\n",
    "## <i class=\"fa fa-graduation-cap\" aria-hidden=\"true\"></i> Learning Objectives\n",
    "\n",
    "After completing this lesson, you will be able to:\n",
    "\n",
    "* Create a list of landsat `.tif` files using `glob` and `os.path.join`\n",
    "* Crop a list of landsat `.tif` files to a defined crop extent boundary\n",
    "* Stack a list of landsat `.tif` files into one output `.tif` file OR one **numpy** array\n",
    "\n",
    "</div>\n",
    "\n",
    "### Landsat File Naming Convention\n",
    "\n",
    "Landsat and many other satellite remote sensing data is named in a way that tells you a about:\n",
    "\n",
    "* When the data were collected and processed\n",
    "* What sensor was used to collect the data\n",
    "* What satellite was used to collect the data.\n",
    "\n",
    "And more. \n",
    "\n",
    "Here you will learn a few key components of the landsat 8 collection file name. The first scene that you work with below is named:\n",
    "\n",
    "`LC080340322016072301T1-SC20180214145802`\n",
    "\n",
    "At the start of the name, you see LC08:\n",
    "\n",
    "* **L:** Landsat Sensor\n",
    "* **C:** OLI / TIRS combined platform\n",
    "* **08:** Landsat 8 (not 7)\n",
    "\n",
    "* **034032:** The next 6 digits represent the path and row of the scene. This identifies the spatial coverage of the scene\n",
    "\n",
    "Finally, you have a date. In your case as follows:\n",
    "\n",
    "* **20160723:** representing the year, month and day that the data were collected.\n",
    "\n",
    "The second part of the file name above tells you more about when the data were last processed. You can read more about this naming convention using the link below.\n",
    "\n",
    "<a href=\"https://www.usgs.gov/faqs/what-naming-convention-landsat-collections-level-1-scenes?qt-news_science_products=0#qt-news_science_products\" target=\"_blank\">Learn more about Landsat 8 file naming conventions.</a>\n",
    "\n",
    "As you work with these data, it is good to double check that you are working with the sensor (Landsat 8) and the time period that you intend. Having this information in the file name makes it easier to keep track of this as you process your data. \n",
    "\n",
    "## Open Landsat .tif Files in Python\n",
    "\n",
    "Now that you understand the Landsat 8 Collection file naming conventions, you \n",
    "will bring the data into Python using **earthpy**. To begin, load your \n",
    "libraries and set up your working directory."
   ]
  },
  {
   "cell_type": "code",
   "execution_count": null,
   "metadata": {},
   "outputs": [],
   "source": [
    "import os\n",
    "from glob import glob  # File manipulation\n",
    "import matplotlib.pyplot as plt\n",
    "import geopandas as gpd\n",
    "import rasterio as rio\n",
    "import earthpy as et\n",
    "import earthpy.spatial as es\n",
    "import earthpy.plot as ep\n",
    "\n",
    "# Download data and set working directory\n",
    "data = et.data.get_data('cold-springs-fire')\n",
    "os.chdir(os.path.join(et.io.HOME, 'earth-analytics', 'data'))"
   ]
  },
  {
   "cell_type": "markdown",
   "metadata": {},
   "source": [
    "You will be working in the `landsat-collect` directory. Notice that the data in that directory are stored by individual band. Each file is a single geotiff (.tif) rather than one tif with all the bands which is what you worked with in the previous lesson with NAIP data.  \n",
    "\n",
    "### Why Are Landsat Bands Stored As Individual Files?\n",
    " \n",
    "Originally Landsat was stored in a file format called HDF - hierarchical\n",
    "data format. However that format, while extremely efficient, is a bit more\n",
    "challenging to work with. In recent years, USGS has started to make each band\n",
    "of a landsat scene available as a `.tif` file. This makes it a bit easier to use\n",
    "across many different programs and platforms.\n",
    "\n",
    "The good news is that you already know how to work with .tif files in **Python**. You just need to learn how to batch process a series of `.tif` files to work with Landsat 8 Collections. \n",
    "\n",
    "## Generate a List of Files in Python\n",
    " \n",
    "To begin, explore the Landsat files in your `cs-test-landsat` directory. Start with the data:\n",
    "\n",
    "`data/cs-test-landsat/`"
   ]
  },
  {
   "cell_type": "markdown",
   "metadata": {},
   "source": [
    "Landsat scenes are large. In order to make the process more effecient, you need to crop all of the data in your landsat scenes to be the size of our study area. You will be using `crop_all()` later in this lesson to achieve this goal. \n",
    "\n",
    "Below are all of the bands in our landsat data:\n",
    "\n",
    "```\n",
    "'LC08_L1TP_034032_20160621_20170221_01_T1_sr_band7.tif',\n",
    "'LC08_L1TP_034032_20160621_20170221_01_T1.xml',\n",
    "'LC08_L1TP_034032_20160621_20170221_01_T1_sr_band5.tif',\n",
    "'LC08_L1TP_034032_20160621_20170221_01_T1_sr_band1.tif',\n",
    "'LC08_L1TP_034032_20160621_20170221_01_T1_sr_aerosol.tif',\n",
    "'LC08_L1TP_034032_20160621_20170221_01_T1_sr_band3.tif',\n",
    "'LC08_L1TP_034032_20160621_20170221_01_T1_ANG.txt',\n",
    "'LC08_L1TP_034032_20160621_20170221_01_T1_sr_band2.tif',\n",
    "'crop',\n",
    "'LC08_L1TP_034032_20160621_20170221_01_T1_sr_band4.tif',\n",
    "'LC08_L1TP_034032_20160621_20170221_01_T1_sr_band6.tif',\n",
    "'LC08_L1TP_034032_20160621_20170221_01_T1_pixel_qa.tif',\n",
    "'LC08_L1TP_034032_20160621_20170221_01_T1_radsat_qa.tif',\n",
    "'LC08_L1TP_034032_20160621_20170221_01_T1_MTL.txt'\n",
    "\n",
    "```\n",
    "\n",
    "Notice that there are some layers that are quality assurance layers. Others have the word band in them. The layers with band in them are the reflectance data that you need to work with. \n",
    "\n",
    "To work with these files, you will do the following:\n",
    "\n",
    "1. You will generate a list of all files in the directory that contain the word **band** in the name. \n",
    "2. Crop all layers in that list to the extent of the study area.\n",
    "3. Stack all the layers into one numpy array.\n",
    "\n",
    "You will use the `glob()` function and library to do this in **Python**. \n",
    "\n",
    "Begin exploring `glob()` by grabbing everything in the directory using `/*`. "
   ]
  },
  {
   "cell_type": "code",
   "execution_count": null,
   "metadata": {},
   "outputs": [],
   "source": [
    "landsat_post_fire_path = os.path.join(\"cold-springs-fire\",\n",
    "                                      \"landsat_collect\",\n",
    "                                      \"LC080340322016072301T1-SC20180214145802\",\n",
    "                                      \"crop\")\n",
    "\n",
    "\n",
    "glob(os.path.join(landsat_post_fire_path, \"*\"))"
   ]
  },
  {
   "cell_type": "markdown",
   "metadata": {},
   "source": [
    "### Grab Subsets of File Names Using File Names and Other Criteria \n",
    "\n",
    "Above you generated a list of all files in the directory. However, you may want to subset that list to only include:\n",
    "\n",
    "1. `.tif` files\n",
    "2. `.tif` files that contain the word \"band\" in them\n",
    "\n",
    "Note that it is important that the file **ends with** .tif. So we use an asterisk at the end of the path to tell Python to only grab files that end with .tif.\n",
    "\n",
    "`path/*.tif` will grab all files in the crop directory that end with the .tif extension. "
   ]
  },
  {
   "cell_type": "code",
   "execution_count": null,
   "metadata": {},
   "outputs": [],
   "source": [
    "glob(os.path.join(landsat_post_fire_path, \"*.tif\"))"
   ]
  },
  {
   "cell_type": "markdown",
   "metadata": {},
   "source": [
    "To only grab files containing the word band AND that end with `.tif` we use `*band*.tif`.\n",
    "This tells python to look for the word band anywhere before the `.tif` extension AND anywhere within the file name. \n"
   ]
  },
  {
   "cell_type": "code",
   "execution_count": null,
   "metadata": {},
   "outputs": [],
   "source": [
    "all_landsat_post_bands = glob(os.path.join(\n",
    "    landsat_post_fire_path, \"*band*.tif\"))\n",
    "all_landsat_post_bands"
   ]
  },
  {
   "cell_type": "markdown",
   "metadata": {},
   "source": [
    "Be sure that your bands are in order starting at 1 and ending at 7! If the data are not in order, you can use the `.sort()` list method to sort your list alphabetically. The data in this lesson are sorted properly; however, we have noticed that this sort doesn't happen by default on some machines. The code below will sort your list."
   ]
  },
  {
   "cell_type": "code",
   "execution_count": null,
   "metadata": {},
   "outputs": [],
   "source": [
    "all_landsat_post_bands.sort()\n",
    "all_landsat_post_bands"
   ]
  },
  {
   "cell_type": "markdown",
   "metadata": {},
   "source": [
    "In the previous lesson, you learned how to stack and plot landsat bands. Like this:\n"
   ]
  },
  {
   "cell_type": "code",
   "execution_count": null,
   "metadata": {},
   "outputs": [],
   "source": [
    "landsat_post_arr, landsat_post_meta = es.stack(all_landsat_post_bands)\n",
    "ep.plot_bands(landsat_post_arr)\n",
    "plt.show()"
   ]
  },
  {
   "cell_type": "markdown",
   "metadata": {},
   "source": [
    "### Crop a Single Landsat Band Using EarthPy crop_image()\n",
    "\n",
    "Above you opened up the data and plotted. But sometimes you want to crop\n",
    "your data to just your study area - removing some of the data that you \n",
    "don't need in your analysis. You could chose to open and crop each file \n",
    "individually using the `rio.open()` (rasterio library) function alongside \n",
    "the **earthpy** `es.crop_image()` function as shown below.\n",
    "\n",
    "In order to crop a band, you need to have a\n",
    "\n",
    "1. **GeoPandas** or **shapely** object that represents the extent of the area you want to study in the Landsat image (your crop extent). \n",
    "2. The crop extent shapefile and the Landsat data need to be in the same Coordinate Reference System, or CRS. \n",
    "\n",
    "HINT: You can check the CRS of your Landsat data using the metadata object returned from `rasterio`. \n",
    "\n",
    "Below you crop a single band - band 4 of your data. Remember that Python uses 0 based indexing so \n",
    "band 4 is actually at index `[3]` not `[4]`."
   ]
  },
  {
   "cell_type": "code",
   "execution_count": null,
   "metadata": {
    "caption": "Landsat band 4  - red band - plot."
   },
   "outputs": [],
   "source": [
    "# Open up boundary extent in GeoPandas\n",
    "\n",
    "fire_boundary_path = os.path.join(\"cold-springs-fire\",\n",
    "                                  \"vector_layers\",\n",
    "                                  \"fire-boundary-geomac\",\n",
    "                                  \"co_cold_springs_20160711_2200_dd83.shp\")\n",
    "\n",
    "fire_boundary = gpd.read_file(fire_boundary_path)\n",
    "\n",
    "# Open a single band and plot\n",
    "with rio.open(all_landsat_post_bands[3]) as src:\n",
    "\n",
    "    # Reproject the fire boundary shapefile to be the same CRS as the Landsat data\n",
    "    crop_raster_profile = src.profile\n",
    "    fire_boundary_utmz13 = fire_boundary.to_crs(crop_raster_profile[\"crs\"])\n",
    "\n",
    "    # Crop the landsat image to the extent of the fire boundary\n",
    "    landsat_band4, landsat_metadata = es.crop_image(src, fire_boundary_utmz13)\n",
    "\n",
    "ep.plot_bands(landsat_band4[0],\n",
    "              title=\"Landsat Cropped Band 4\\nColdsprings Fire Scar\",\n",
    "              scale=False)\n",
    "\n",
    "plt.show()"
   ]
  },
  {
   "cell_type": "markdown",
   "metadata": {},
   "source": [
    "### Crop A Set of Landsat .Tif Files Using a List of File Paths  (Earthpy crop_all)\n",
    "\n",
    "Above you saw how to crop a single band of data. However, often you need to crop\n",
    "all of your data at once. You can use the `EarthPy` function - `crop_all()` \n",
    "to crop many files in the same CRS at once. `crop_all()` takes a list of geotif \n",
    "file paths and crops them to the spatial extent of a **shapely** or **geopandas**\n",
    "object. The function returns return a list of the cropped files which you can then \n",
    "use with the earthpy `stack()` function to create a stacked numpy array. \n",
    "\n",
    "To use **earthpy** `crop_all()`, you need to:\n",
    "\n",
    "1. define (and create) an output folder where the cropped files will be saved. \n",
    "2. create a list of the paths to the tif files that you want to crop.\n",
    "3. provide a crop extent layer which you will use to crop. This layer should be in the same CRS as your landsat data. "
   ]
  },
  {
   "cell_type": "code",
   "execution_count": null,
   "metadata": {},
   "outputs": [],
   "source": [
    "cropped_dir = os.path.join(\"cold-springs-fire\",\n",
    "                           \"outputs\",\n",
    "                           \"landsat_post_crop\")\n",
    "\n",
    "# Make the directory if it doesn't already exist\n",
    "if not os.path.isdir(cropped_dir):\n",
    "    os.mkdir(cropped_dir)\n",
    "\n",
    "# Crop your data\n",
    "cropped_file_list = es.crop_all(raster_paths=all_landsat_post_bands,\n",
    "                                output_dir=cropped_dir,\n",
    "                                geoms=fire_boundary_utmz13,\n",
    "                                overwrite=True,\n",
    "                                verbose=True)\n",
    "\n",
    "# Note that because the original tif files ended with _crop you have an awkward\n",
    "# Output name. crop_all by default adds _crop to the end of your newly cropped files\n",
    "cropped_file_list"
   ]
  },
  {
   "cell_type": "markdown",
   "metadata": {},
   "source": [
    "## Use EarthPy Stack() To Create Raster Stack of All Landsat Bands in Python\n",
    "\n",
    "Once you have a list of tif files that you wish to work with in Python, you \n",
    "can stack them. The **earthpy** `es.stack()` function takes 2 arguments:\n",
    "\n",
    "1. a list of tif files that are all in the same crs and of the same extent\n",
    "2. a path to a new file where the stacked raster will be saved\n",
    "\n",
    "To call it you use the following:\n",
    "\n",
    "`es.stack(list-of-files-to-stack)`\n",
    "\n",
    "Note that this stack function was written into the Earth Lab `earthpy` python \n",
    "package to make it simpler to stack sets of remote sensing files together."
   ]
  },
  {
   "cell_type": "code",
   "execution_count": null,
   "metadata": {},
   "outputs": [],
   "source": [
    "# This will create a new stacked raster with all bands\n",
    "land_stack, land_meta = es.stack(band_paths=cropped_file_list)\n",
    "land_stack"
   ]
  },
  {
   "cell_type": "markdown",
   "metadata": {},
   "source": [
    "### Plot Your Raster Stack\n",
    "\n",
    "Once you have stacked your data, you can plot it or work with it as you need to.\n"
   ]
  },
  {
   "cell_type": "code",
   "execution_count": null,
   "metadata": {
    "caption": "Plot showing all 7 of the landsat 8 bands for the Cold Springs Fire Site. Do you notice any difference in brightness between the bands?.",
    "scrolled": false
   },
   "outputs": [],
   "source": [
    "# Plot all bands using earthpy\n",
    "band_titles = [\"Band 1\", \"Blue\", \"Green\", \"Red\",\n",
    "               \"NIR\", \"Band 6\", \"Band7\"]\n",
    "\n",
    "ep.plot_bands(land_stack,\n",
    "              figsize=(11, 7),\n",
    "              title=band_titles,\n",
    "              cbar=False)\n",
    "plt.show()"
   ]
  },
  {
   "cell_type": "markdown",
   "metadata": {},
   "source": [
    "<div class='notice--success alert alert-info' markdown=\"1\">\n",
    "\n",
    "<i class=\"fa fa-star\"></i> **Data Tip:** EarthPy Stack Function\n",
    "\n",
    "In the example above, you opened and stacked some Landsat data. You can \n",
    "also create a new stacked .tif file if you wish by using the \n",
    "\n",
    "`outpath` parameter.\n",
    "\n",
    "`es.stack(band_paths=list-of-files-to-stack, outpath=\"output/dir/filename.tif\")`\n",
    "\n",
    "You can learn more about stacking and cropped data by reading the \n",
    "<a href=\"https://earthpy.readthedocs.io/en/latest/gallery_vignettes/plot_raster_stack_crop.html#id1\" target=\"_blank\">earthpy documentation.</a>\n",
    "</div>"
   ]
  },
  {
   "cell_type": "markdown",
   "metadata": {},
   "source": [
    "<div class=\"notice--warning alert alert-info\" markdown=\"1\">\n",
    "\n",
    "## <i class=\"fa fa-pencil-square-o\" aria-hidden=\"true\"></i> Challenge 1: Open And Crop Your Data\n",
    "\n",
    "Above, you opened up the landsat scene in the directory: `LC080340322016072301T1-SC20180214145802`. This data covers \n",
    "an area which a file occured near Nederland, Colorado. For this challenge, you will\n",
    "work with data that was collected before the fire for the same area. \n",
    "Do the following:\n",
    "\n",
    "1. Crop all of the bands (tif files with the word \"band\" in them,  in the `LC080340322016070701T1-SC20180214145604` directory using earthpy `crop_all()`.\n",
    "2. Next stack the cropped tif files using `es.stack()`.\n",
    "3. Finally plot the data using `ep.plot_bands()`\n",
    "\n",
    "</div>"
   ]
  },
  {
   "cell_type": "code",
   "execution_count": null,
   "metadata": {
    "tags": [
     "hide"
    ]
   },
   "outputs": [],
   "source": [
    "# Use this cell to crop all the landsat bands and plot them\n"
   ]
  },
  {
   "cell_type": "markdown",
   "metadata": {},
   "source": [
    "<div class=\"notice--warning alert alert-info\" markdown=\"1\">\n",
    "\n",
    "## <i class=\"fa fa-pencil-square-o\" aria-hidden=\"true\"></i> Challenge 2 (Optional): Calculate & Plot NDVI \n",
    "\n",
    "In <a href=\"https://www.earthdatascience.org/courses/use-data-open-source-python/multispectral-remote-sensing/landsat-in-Python/\" target=\"_blank\">this lesson which introduces working with Landsat data in open source \n",
    "    Python, </a> you learn how to plot both a color RGB and Color Infrared (CIR) images\n",
    "    using landsat data. Create a figure below that has:\n",
    "\n",
    "1. A color RGB image of the landsat data collected post fire\n",
    "2. A CIR image of the landsat data collected post fire. \n",
    " \n",
    "HINT: You will need to set the correct band combinations for your plots to \n",
    "turn our properly. \n",
    "\n",
    "* For Regular color images use: `rgb=[3, 2, 1]`\n",
    "* For color infrared use: `rgb=[4, 3, 2]`\n",
    "</div>\n",
    "\n"
   ]
  },
  {
   "cell_type": "code",
   "execution_count": null,
   "metadata": {
    "tags": [
     "hide"
    ]
   },
   "outputs": [],
   "source": [
    "# Use this cell to calculate and plot NDVI\n"
   ]
  }
 ],
 "metadata": {
  "celltoolbar": "Tags",
  "kernelspec": {
   "display_name": "Python 3",
   "language": "python",
   "name": "python3"
  },
  "language_info": {
   "codemirror_mode": {
    "name": "ipython",
    "version": 3
   },
   "file_extension": ".py",
   "mimetype": "text/x-python",
   "name": "python",
   "nbconvert_exporter": "python",
   "pygments_lexer": "ipython3",
   "version": "3.7.6"
  },
  "toc": {
   "base_numbering": 1,
   "nav_menu": {},
   "number_sections": true,
   "sideBar": true,
   "skip_h1_title": false,
   "title_cell": "Table of Contents",
   "title_sidebar": "Contents",
   "toc_cell": false,
   "toc_position": {},
   "toc_section_display": true,
   "toc_window_display": false
  }
 },
 "nbformat": 4,
 "nbformat_minor": 4
}
