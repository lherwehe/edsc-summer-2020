{
 "cells": [
  {
   "cell_type": "markdown",
   "metadata": {},
   "source": [
    "<img style=\"float: left;\" src=\"../earth-lab-logo-rgb.png\" width=\"150\" height=\"150\">\n",
    "\n",
    "# Earth Data Science Corps Summer 2020\n",
    "\n",
    "![Colored Bar](../colored-bar.png)"
   ]
  },
  {
   "cell_type": "markdown",
   "metadata": {},
   "source": [
    "<div class='notice--success' markdown=\"1\">\n",
    "\n",
    "## <i class=\"fa fa-graduation-cap\" aria-hidden=\"true\"></i> Learning Objectives\n",
    "\n",
    "* Open, plot, and explore raster data using **Python**.\n",
    "* Handle no data values in raster data. \n",
    "* Create plotting extents so you can plot raster and vector data together using matplotlib.\n",
    "* Explore raster data using histograms and descriptive statistics.\n",
    "\n",
    "</div>\n",
    "\n",
    "## Open Raster Data in Open Source Python\n",
    "\n",
    "Remember from the previous lesson that raster or “gridded” data are stored as a \n",
    "grid of values which are rendered on a map as pixels. Each pixel value \n",
    "represents an area on the Earth’s surface. A raster file is composed of \n",
    "regular grid of cells, all of which are the same size. Raster data can \n",
    "be used to store many different types of scientific data including \n",
    "\n",
    "* elevation data\n",
    "* canopy height models\n",
    "* surface temperature \n",
    "* climate model data outputs\n",
    "* landuse / landcover data\n",
    "* and more.\n",
    "\n",
    "<figure>\n",
    "   <a href=\"https://www.earthdatascience.org/images/earth-analytics/raster-data/raster-concept.png\" target=\"_blank\">\n",
    "   <img src=\"https://www.earthdatascience.org/images/earth-analytics/raster-data/raster-concept.png\" alt=\"Raster data concept diagram.\"></a>\n",
    "   <figcaption>A raster is composed of a regular grid of cells. Each cell is the same\n",
    "   size in the x and y direction. Source: Colin Williams, NEON.\n",
    "   </figcaption>\n",
    "</figure>\n",
    "\n",
    "In this lesson you will learn more about working with lidar derived raster data\n",
    "that represents both terrain / elevation data (elevation of the earth's surface),\n",
    "and surface elevation (elevation at the tops of trees, buildings etc above the earth's\n",
    "surface). If you want to read more about how lidar data are used to derive \n",
    "raster based surface models, you can check out <a href=\"https://www.earthdatascience.org/courses/use-data-open-source-python/data-stories/what-is-lidar-data/\" target=\"_blank\"> this chapter on lidar remote sensing data and the various raster data products derived from lidar data.</a> \n",
    "\n",
    "<figure>\n",
    "   <a href=\"https://www.earthdatascience.org/images/earth-analytics/lidar-raster-data/lidarTree-height.png\">\n",
    "   <img src=\"https://www.earthdatascience.org/images/earth-analytics/lidar-raster-data/lidarTree-height.png\" alt=\"Lidar derived DSM, DTM and CHM.\"></a>\n",
    "   <figcaption>Digital Surface Model (DSM), Digital Elevation Models (DEM) and\n",
    "   the Canopy Height Model (CHM) are the most common raster format lidar\n",
    "   derived data products. One way to derive a CHM is to take\n",
    "   the difference between the digital surface model (DSM, tops of trees, buildings\n",
    "   and other objects) and the Digital Terrain Model (DTM, ground level). The CHM\n",
    "   represents the actual height of trees, buildings, etc. with the influence of\n",
    "   ground elevation removed. Graphic: Colin Williams, NEON\n",
    "   </figcaption>\n",
    "</figure>\n",
    "\n",
    "<i class=\"fa fa-star\"></i> **Data Tip:** \n",
    "The data used in this lesson are NEON (National Ecological Observatory Network) data. \n",
    "{: .notice--success }\n",
    "\n",
    "To begin load the \n",
    "packages that you need to process your raster data."
   ]
  },
  {
   "cell_type": "code",
   "execution_count": null,
   "metadata": {},
   "outputs": [],
   "source": [
    "# Import necessary packages\n",
    "import os\n",
    "import matplotlib.pyplot as plt\n",
    "import seaborn as sns\n",
    "# Use geopandas for vector data and rasterio for raster data\n",
    "import geopandas as gpd\n",
    "import rasterio as rio\n",
    "# Plotting extent is used to plot raster & vector data together\n",
    "from rasterio.plot import plotting_extent\n",
    "\n",
    "import earthpy as et\n",
    "import earthpy.plot as ep\n",
    "\n",
    "# Prettier plotting with seaborn\n",
    "sns.set(font_scale=1.5, style=\"white\")"
   ]
  },
  {
   "cell_type": "code",
   "execution_count": null,
   "metadata": {},
   "outputs": [],
   "source": [
    "# Get data and set working directory\n",
    "et.data.get_data(\"colorado-flood\")\n",
    "os.chdir(os.path.join(et.io.HOME, 'earth-analytics', 'data'))"
   ]
  },
  {
   "cell_type": "markdown",
   "metadata": {},
   "source": [
    "Below, you define the path to a lidar derived digital elevation model (DEM)\n",
    "that was created using NEON (the National Ecological Observatory Network) data. \n",
    "\n",
    "<div class='notice--success alert alert-info' markdown=\"1\">\n",
    "\n",
    "<i class=\"fa fa-star\"></i> **Data Tip:** DEM's are also sometimes referred to \n",
    "as DTM (Digital Terrain Model or \n",
    "DTM). You can learn more about the 3 lidar derived elevation data types: <a href=\"https://www.earthdatascience.org/courses/use-data-open-source-python/data-stories/what-is-lidar-data/lidar-chm-dem-dsm/\" >DEMs,\n",
    "Canopy Height Models (CHM) and Digital Surface Models (DSMs) in the lidar chapter\n",
    "of this textbook.</a>\n",
    "</div>\n",
    "\n",
    "You then open the data using `rio.open(\"path-to-raster-here\")`."
   ]
  },
  {
   "cell_type": "code",
   "execution_count": null,
   "metadata": {},
   "outputs": [],
   "source": [
    "# Define relative path to file\n",
    "dem_pre_path = os.path.join(\"colorado-flood\", \"spatial\",\n",
    "                              \"boulder-leehill-rd\", \"pre-flood\", \"lidar\",\n",
    "                              \"pre_DTM.tif\")\n",
    "\n",
    "# Open the file using a context manager (\"with rio.open\" statement)\n",
    "with rio.open(dem_pre_path) as dem_src:\n",
    "    dtm_pre_arr = dem_src.read(1)"
   ]
  },
  {
   "cell_type": "markdown",
   "metadata": {},
   "source": [
    "When you open raster data using **rasterio** you are creating a numpy array.\n",
    "Numpy is an efficient way to work with and process raster format data. You can \n",
    "plot your data using earthpy `plot_bands()` which takes a \n",
    "numpy array as an input and generates a plot. "
   ]
  },
  {
   "cell_type": "code",
   "execution_count": null,
   "metadata": {
    "caption": "A plot of a Lidar derived digital elevation model for Lee Hill Road in Boulder, CO.",
    "label": "fig:demplot"
   },
   "outputs": [],
   "source": [
    "# Plot your data using earthpy\n",
    "ep.plot_bands(dtm_pre_arr,\n",
    "              title=\"Lidar Digital Elevation Model (DEM) \\n Boulder Flood 2013\",\n",
    "              cmap=\"Greys\")\n",
    "\n",
    "plt.show()"
   ]
  },
  {
   "cell_type": "markdown",
   "metadata": {},
   "source": [
    "The data above should represent terrain model data. However, the range of \n",
    "values is not what is expected. These data are for Boulder, Colorado where \n",
    "the elevation may range from 1000-3000m. \n",
    "\n",
    "There may be some outlier values in the data that may need to be addressed. \n",
    "Below you check out the min and max values of the data. \n"
   ]
  },
  {
   "cell_type": "code",
   "execution_count": null,
   "metadata": {},
   "outputs": [],
   "source": [
    "print(\"the minimum raster value is: \", dtm_pre_arr.min())\n",
    "print(\"the maximum raster value is: \", dtm_pre_arr.max())"
   ]
  },
  {
   "cell_type": "code",
   "execution_count": null,
   "metadata": {},
   "outputs": [],
   "source": [
    "# A histogram can also be helpful to look at the range of values in your data\n",
    "# What do you notice about the histogram below?\n",
    "ep.hist(dtm_pre_arr,\n",
    "       figsize=(10,6))\n",
    "plt.show()"
   ]
  },
  {
   "cell_type": "markdown",
   "metadata": {},
   "source": [
    "## Raster Data Exploration - Min and Max Values\n",
    "\n",
    "Looking at the minimum value of the data, there is one of two things going on\n",
    "that need to be fixed\n",
    "\n",
    "1. there may be no data values in the data with a negative value that are skewing your plot colors\n",
    "2. there also could be outlier data in your raster\n",
    "\n",
    "You can explore the first option - that there are no data values by reading \n",
    "in the data and masking no data values using rasterio. To do this, you will use the `masked=True` parameter for the `.read()` function - like this:\n",
    "\n",
    "`dem_src.read(1, masked=True)`"
   ]
  },
  {
   "cell_type": "code",
   "execution_count": null,
   "metadata": {},
   "outputs": [],
   "source": [
    "# Read in your data and mask the no data values\n",
    "with rio.open(dem_pre_path) as dem_src:\n",
    "    # Masked=True will mask all no data values\n",
    "    dtm_pre_arr = dem_src.read(1, masked=True)"
   ]
  },
  {
   "cell_type": "markdown",
   "metadata": {},
   "source": [
    "Notice that now the minimum value looks more like\n",
    "an elevation value (which should most often not be negative). "
   ]
  },
  {
   "cell_type": "code",
   "execution_count": null,
   "metadata": {},
   "outputs": [],
   "source": [
    "print(\"the minimum raster value is: \", dtm_pre_arr.min())\n",
    "print(\"the maximum raster value is: \", dtm_pre_arr.max())"
   ]
  },
  {
   "cell_type": "code",
   "execution_count": null,
   "metadata": {},
   "outputs": [],
   "source": [
    "# A histogram can also be helpful to look at the range of values in your data\n",
    "ep.hist(dtm_pre_arr,\n",
    "       figsize=(10,6),\n",
    "       title=\"Histogram of the Data with No Data Values Removed\")\n",
    "plt.show()"
   ]
  },
  {
   "cell_type": "markdown",
   "metadata": {},
   "source": [
    "Plot your data again to see how it looks. "
   ]
  },
  {
   "cell_type": "code",
   "execution_count": null,
   "metadata": {},
   "outputs": [],
   "source": [
    "# Plot data using earthpy\n",
    "ep.plot_bands(dtm_pre_arr,\n",
    "              title=\"Lidar Digital Elevation Model (DEM) \\n Boulder Flood 2013\",\n",
    "              cmap=\"Greys\")\n",
    "\n",
    "plt.show()"
   ]
  },
  {
   "cell_type": "markdown",
   "metadata": {},
   "source": [
    "## Rasterio Reads Files into Python as Numpy Arrays\n",
    "\n",
    "When you call `src.read()` above, rasterio is reading in the data as a \n",
    "**numpy array**. A **numpy array** is a matrix of values. **Numpy arrays** are an \n",
    "efficient structure for working with large and potentially multi-dimensional (layered) matrices.\n",
    "\n",
    "The numpy array below is type `numpy.ma.core.MaskedArray`. It is a masked\n",
    "array because you chose to mask the no data values in your data. Masking\n",
    "ensures that when you plot and perform other math operations on your data, \n",
    "those no data values are not included in the operations. \n",
    "\n",
    "<div class='notice--success alert alert-info' markdown=\"1\">\n",
    "\n",
    "<i class=\"fa fa-star\"></i> **Data Tip:**  <a href=\"https://www.earthdatascience.org/courses/intro-to-earth-data-science/scientific-data-structures-python/numpy-arrays/\" target=\"_blank\">If you want to learn more about Numpy arrays, check out the intro to earth \n",
    "datascience textbook chapter on Numpy arrays. </a>\n",
    "</div>"
   ]
  },
  {
   "cell_type": "code",
   "execution_count": null,
   "metadata": {},
   "outputs": [],
   "source": [
    "with rio.open(dem_pre_path) as dem_src:\n",
    "    lidar_dem_im = dem_src.read(1, masked=True)\n",
    "\n",
    "print(\"Numpy Array Shape:\", lidar_dem_im.shape)\n",
    "print(\"Object type:\", type(lidar_dem_im))"
   ]
  },
  {
   "cell_type": "markdown",
   "metadata": {},
   "source": [
    "A numpy array does not by default store spatial information. However, your \n",
    "raster data is spatial - it represents a location on the earth's surface. \n",
    "\n",
    "You can acccess the spatial metadata within the context manager using \n",
    "`dem_src.profile`. Notice that the `.profile` object contains information including\n",
    "the no data values for your data, the shape, the file type and even the coordinate \n",
    "reference system. You will learn more about \n",
    "<a href=\"https://www.earthdatascience.org/courses/use-data-open-source-python/intro-raster-data-python/fundamentals-raster-data/raster-metadata-in-python/\" target=\"_blank\">raster metadata in the raster metadata lesson in this chapter.</a>\n"
   ]
  },
  {
   "cell_type": "code",
   "execution_count": null,
   "metadata": {},
   "outputs": [],
   "source": [
    "with rio.open(dem_pre_path) as dem_src:\n",
    "    lidar_dem_im = dem_src.read(1, masked=True)\n",
    "    # Create an object called lidar_dem_meta that contains the spatial metadata\n",
    "    lidar_dem_meta = dem_src.profile\n",
    "\n",
    "lidar_dem_meta"
   ]
  },
  {
   "cell_type": "markdown",
   "metadata": {},
   "source": [
    "\n",
    "## Context Managers to Open and Close File Connections\n",
    "\n",
    "The steps above represent the steps you need to open and plot a raster \n",
    "dataset using rasterio in python. The `with rio.open()` statement creates\n",
    "what is known as a context manager. A context manager allows you to open \n",
    "the data and work with it. Within the context manager, Python makes \n",
    "a temporary connection to the file that you are trying to open. \n",
    "\n",
    "In the example above this was a file called `pre_DTM.tif`.\n",
    "\n",
    "To break this code down, the context manager has a few parts. \n",
    "First, it has a `with` statement. The `with` statement creates \n",
    "a connection to the file that you want to open. The default connection\n",
    "type is read only. This means that you can NOT modify that file\n",
    "by default. Not being able to modify the original data is a good thing\n",
    "because it prevents you from making unintended changes to your \n",
    "original data.\n",
    "\n",
    "```\n",
    "with rio.open(`file-path-here`) as file_src:\n",
    "   dtm_pre_arr = dem_src.read(1, masked=True)\n",
    "```\n",
    "\n",
    "Notice that the first line of the context manager is not indented.\n",
    "It contains two parts\n",
    "\n",
    "1. `rio.open()`: This is the code that will open a connection to your .tif file using a path you provide. \n",
    "2. `file_src`: this is a rasterio reader object that you can use to read in the actual data. You can also use this object to access the metadata for the raster file.\n",
    "\n",
    "The second line of your with statement \n",
    "\n",
    "  `dtm_pre_arr = dem_src.read(1, masked=True)`\n",
    "\n",
    "is indented. Any code that is indented\n",
    "directly below the with statement will become a part of the context manager.\n",
    "This code has direct access to the `file_src` object which is you recall above is\n",
    "the rasterio reader object.\n",
    "\n",
    "Opening and closing files using rasterio and context managers is efficient as it establishes a connection to the raster file rather than directly reading it into memory. \n",
    "\n",
    "Once you are done opening and reading in the data, the context manager closes\n",
    "that connection to the file. This efficiently ensures that the file won't be modified \n",
    "later in your code. \n",
    "\n",
    "\n",
    "\n",
    "<div class='notice--success alert alert-info' markdown=\"1\">\n",
    "\n",
    "<i class=\"fa fa-star\"></i> **Data Tip:**  You can open and close files without \n",
    "a context manager using the syntax below. This approach however is generally\n",
    "not recommended. \n",
    "\n",
    "```\n",
    "lidar_dem = rio.open(dem_pre_path)\n",
    "lidar_dem.close()\n",
    "```\n",
    "</div>"
   ]
  },
  {
   "cell_type": "code",
   "execution_count": null,
   "metadata": {},
   "outputs": [],
   "source": [
    "# Notice here the src object is printed and returns an \"open\" DatasetReader object\n",
    "with rio.open(dem_pre_path) as src:\n",
    "    print(src)"
   ]
  },
  {
   "cell_type": "code",
   "execution_count": null,
   "metadata": {},
   "outputs": [],
   "source": [
    "# Note that the src object is now closed because it's not within the indented\n",
    "# part of the context manager above\n",
    "print(src)"
   ]
  },
  {
   "cell_type": "markdown",
   "metadata": {
    "tags": [
     "hide"
    ]
   },
   "source": [
    "```\n",
    "# this returns an error as you have closed the connection to the file. \n",
    "show(lidar_dem)\n",
    "```\n",
    "\n",
    "```\n",
    "---------------------------------------------------------------------------\n",
    "ValueError                                Traceback (most recent call last)\n",
    "<ipython-input-7-dad244dfd7d3> in <module>()\n",
    "      1 # this returns an error as you have closed the connection to the file.\n",
    "----> 2 show(lidar_dem)\n",
    "\n",
    "~/anaconda3/envs/earth-analytics-python/lib/python3.6/site-packages/rasterio/plot.py in show(source, with_bounds, contour, contour_label_kws, ax, title, **kwargs)\n",
    "     80     elif isinstance(source, RasterReader):\n",
    "     81         if source.count == 1:\n",
    "---> 82             arr = source.read(1, masked=True)\n",
    "     83         else:\n",
    "     84             try:\n",
    "\n",
    "rasterio/_io.pyx in rasterio._io.RasterReader.read (rasterio/_io.c:10647)()\n",
    "\n",
    "rasterio/_io.pyx in rasterio._io.RasterReader._read (rasterio/_io.c:15124)()\n",
    "\n",
    "ValueError: can't read closed raster file\n",
    "\n",
    "```"
   ]
  },
  {
   "cell_type": "markdown",
   "metadata": {},
   "source": [
    "## Plot Raster and Vector Data Together: Plot Extents\n",
    "\n",
    "Numpy arrays are an efficient way to store and process data. However, by default\n",
    "they do not contain spatial information. To plot raster and vector data together \n",
    "on a map, you will need to create an extent object that defines the spatial extent\n",
    "of your raster layer. This will then allow you to plot a raster and vector\n",
    "data together to create a map.  \n",
    "\n",
    "Below you open a single shapefile that contains a boundary layer that you can \n",
    "overlay on top of your raster dataset.\n"
   ]
  },
  {
   "cell_type": "code",
   "execution_count": null,
   "metadata": {},
   "outputs": [],
   "source": [
    "# Open site boundary vector layer\n",
    "site_bound_path = os.path.join(\"colorado-flood\",\n",
    "                               \"spatial\",\n",
    "                               \"boulder-leehill-rd\",\n",
    "                               \"clip-extent.shp\")\n",
    "site_bound_shp = gpd.read_file(site_bound_path)\n",
    "\n",
    "# Plot the vector data\n",
    "site_bound_shp.plot(color='teal',\n",
    "                    edgecolor='black')\n",
    "plt.show()"
   ]
  },
  {
   "cell_type": "markdown",
   "metadata": {},
   "source": [
    "You can try to plot the two datasets together but you will see below that \n",
    "the output plot does not look correct. This is because the raster layer has no \n",
    "spatial information associated with it. "
   ]
  },
  {
   "cell_type": "code",
   "execution_count": null,
   "metadata": {},
   "outputs": [],
   "source": [
    "fig, ax = plt.subplots(figsize=(6,6))\n",
    "\n",
    "ep.plot_bands(dtm_pre_arr, ax=ax)\n",
    "\n",
    "site_bound_shp.plot(color='teal',\n",
    "                    edgecolor='black', ax=ax)\n",
    "\n",
    "plt.show()"
   ]
  },
  {
   "cell_type": "code",
   "execution_count": null,
   "metadata": {},
   "outputs": [],
   "source": [
    "with rio.open(dem_pre_path) as dem_src:\n",
    "    lidar_dem_im = dem_src.read(1, masked=True)\n",
    "    # Create an object called lidar_dem_meta that contains the spatial metadata\n",
    "    lidar_dem_plot_ext = plotting_extent(dem_src)\n",
    "\n",
    "# This plotting extent object will be used below to ensure your data overlay correctly\n",
    "lidar_dem_plot_ext"
   ]
  },
  {
   "cell_type": "markdown",
   "metadata": {},
   "source": [
    "Next try to plot. This time however, use the `extent=` parameter\n",
    "to specify the plotting extent within `ep.plot_bands()`"
   ]
  },
  {
   "cell_type": "code",
   "execution_count": null,
   "metadata": {},
   "outputs": [],
   "source": [
    "fig, ax = plt.subplots()\n",
    "\n",
    "ep.plot_bands(dtm_pre_arr,\n",
    "              ax=ax,\n",
    "              extent=lidar_dem_plot_ext)\n",
    "\n",
    "site_bound_shp.plot(color='None',\n",
    "                    edgecolor='teal',\n",
    "                    linewidth=2,\n",
    "                    ax=ax)\n",
    "# Turn off the outline or axis border on your plot\n",
    "ax.axis('off')\n",
    "plt.show()"
   ]
  },
  {
   "cell_type": "markdown",
   "metadata": {},
   "source": [
    "<div class='notice--success alert alert-info' markdown=\"1\">\n",
    "\n",
    "<i class=\"fa fa-star\"></i> **Data Tip:**  Customizing Raster Plot Color Ramps\n",
    "To change the color of a raster plot you set the colormap. Matplotlib has a list of  <a href=\"https://matplotlib.org/users/colormaps.html\" target=\"_blank\">pre-determined color ramps that you can chose from.</a> You can reverse a color ramp by adding `_r` at the end of the color ramp's name, for example `cmap = 'viridis'` vs `cmap = 'viridis_r'`. \n",
    "\n",
    "</div>\n",
    "\n",
    "You now have the basic skills needed to open and plot raster data. Complete\n",
    "the challenges below to test your skills. "
   ]
  },
  {
   "cell_type": "markdown",
   "metadata": {},
   "source": [
    "<div class=\"notice--warning alert alert-info\" markdown=\"1\">\n",
    "\n",
    "## <i class=\"fa fa-pencil-square-o\" aria-hidden=\"true\"></i> Challenge 1: Open And Plot Hillshade\n",
    " \n",
    "It's time to practice your raster skills. Do the following:\n",
    "\n",
    "Use the `pre_DTM_hill.tif` layer in the `colorado-flood/spatial/boulder-leehill-rd/pre-flood/lidar` directory.\n",
    "\n",
    "1. Open the `pre_DTM_hill.tif` layer using rasterio.\n",
    "2. Plot the data using `ep.plot_bands()`. \n",
    "3. Set the colormap (`cmap=`) parameter value to Greys: `cmap=\"Greys\"`\n",
    "\n",
    "Give you plot a title.\n",
    "\n",
    "</div>"
   ]
  },
  {
   "cell_type": "code",
   "execution_count": null,
   "metadata": {
    "tags": [
     "hide"
    ]
   },
   "outputs": [],
   "source": [
    "# Define relative path to file\n",
    "dem_pre_path = os.path.join(\"colorado-flood\", \n",
    "                              \"spatial\",\n",
    "                              \"boulder-leehill-rd\", \n",
    "                              \"pre-flood\", \n",
    "                              \"lidar\",\n",
    "                              \"pre_DTM_hill.tif\")\n",
    "\n",
    "# Open the file using a context manager (\"with rio.open\" statement)\n"
   ]
  },
  {
   "cell_type": "markdown",
   "metadata": {},
   "source": [
    "<div class=\"notice--warning alert alert-info\" markdown=\"1\">\n",
    "\n",
    "## <i class=\"fa fa-pencil-square-o\" aria-hidden=\"true\"></i> Challenge 2: Overlay DTM Over DTM Hillshade\n",
    "\n",
    "In the challenge above, you opened and plotted a hillshade of the \n",
    "lidar digital terrain model create from NEON lidar data before\n",
    "the 2013 Colorado Flood. In this challenge, you will use the hillshade\n",
    "to create a map that looks more 3-dimensional by overlaying the \n",
    "DTM data on top of the hillshade. \n",
    "\n",
    "To do this, you will need to plot each layer using `ep.plot_bands()`\n",
    "\n",
    "1. Plot the hillshade layer `pre_DTM_hill.tif` that you opened in Challenge 1. Similar to Challenge one set `cmap=\"Greys\"`\n",
    "2. Plot the DTM that you opened above `dtm_pre_arr`\n",
    "  * When you plot the DTM, use the `alpha=` parameter to adjust the opacity of the DTM so that you can see the shading on the hillshade underneath the DTM. \n",
    "  * Set the colormap to viridis (or any colormap that you prefer) `cmap='viridis'` for the DTM layer. \n",
    "\n",
    "\n",
    "HINT: be sure to use the `ax=` parameter to make sure both \n",
    "layers are on the same figure. \n",
    "\n",
    "</div>\n",
    "\n",
    "*****\n",
    "\n",
    "<div class='notice--success alert alert-info' markdown=\"1\">\n",
    "\n",
    "<i class=\"fa fa-star\"></i> **Data Tip:** \n",
    "\n",
    "* <a href=\"https://www.earthdatascience.org/courses/scientists-guide-to-plotting-data-in-python/plot-spatial-data/customize-raster-plots/overlay-raster-maps/\" target=\"_blank\">Check out this lesson on overlaying rasters if you get stuck trying to complete this challenge.</a>\n",
    "\n",
    "* <a href=\"https://matplotlib.org/3.1.0/tutorials/colors/colormaps.html\" target=\"_blank\">Check out the matplotlib colormap documentation for most on colormap options.</a>\n",
    "\n",
    "</div>"
   ]
  },
  {
   "cell_type": "code",
   "execution_count": null,
   "metadata": {
    "tags": [
     "hide"
    ]
   },
   "outputs": [],
   "source": [
    "# Add code for plot here\n"
   ]
  },
  {
   "cell_type": "markdown",
   "metadata": {},
   "source": [
    "<div class=\"notice--warning alert alert-info\" markdown=\"1\">\n",
    "\n",
    "## <i class=\"fa fa-pencil-square-o\" aria-hidden=\"true\"></i> Challenge 3: Add A Site Boundary to Your Raster Plot\n",
    "\n",
    "Take all of the code that you wrote above to plot the DTM on top \n",
    "of your hillshade layer. Add the site boundary layer that you opened above \n",
    "`site_bound_shp` to your plot. \n",
    "\n",
    "HINT: remember that the `plotting_extent()` object (`lidar_dem_plot_ext`) \n",
    "will be needed to add this final layer to your plot.\n",
    "\n",
    "</div>\n",
    "\n",
    "*****\n",
    "\n",
    "<div class='notice--success alert alert-info' markdown=\"1\">\n",
    "\n",
    "<i class=\"fa fa-star\"></i> **Data Tip:** Plotting Raster and Vector Together\n",
    "\n",
    "You can learn more about overlaying vector data on top of raster data to \n",
    "create maps in Python in <a href=\"https://www.earthdatascience.org/courses/scientists-guide-to-plotting-data-in-python/plot-spatial-data/customize-raster-plots/plotting-extents/\" >this lesson on setting plotting extents.</a>\n",
    "</div>\n",
    "\n"
   ]
  },
  {
   "cell_type": "code",
   "execution_count": null,
   "metadata": {
    "tags": [
     "hide"
    ]
   },
   "outputs": [],
   "source": [
    "# Add code for plot here\n"
   ]
  },
  {
   "cell_type": "markdown",
   "metadata": {
    "tags": [
     "hide"
    ]
   },
   "source": [
    "<div class=\"notice--warning alert alert-info\" markdown=\"1\">\n",
    "\n",
    "## <i class=\"fa fa-pencil-square-o\" aria-hidden=\"true\"></i> Challenge 4 (Optional): Subtract Rasters\n",
    "\n",
    "If you have two numpy arrays that are the same shape (same columns and rows) and the \n",
    "original data were in the same coordinate reference system, you can subtract the \n",
    "two datasets to calculate the difference - like this: \n",
    "\n",
    "`difference_raster = raster_array_one - raster_array_two`\n",
    "\n",
    "Above, you opened up a lidar derived Digital Terrain Model (DTM or DEM) that was created from data collected\n",
    "before the 2013 flood. In the post-flood directory, you will find a DTM containing \n",
    "data collected after the 2013 flood. Subtract the DTM_pre_flood from the DTM_post_flood:\n",
    "\n",
    "`difference = dtm_pre_flood - dtm_post_flood`\n",
    "\n",
    "Plot the output difference array using **earthpy** `plot_bands()`.\n",
    "\n",
    "\n",
    "```python\n",
    "# Define relative path to file\n",
    "dem_pre_path = os.path.join(\"colorado-flood\", \"spatial\",\n",
    "                              \"boulder-leehill-rd\", \"pre-flood\", \"lidar\",\n",
    "                              \"pre_DTM.tif\")\n",
    "```\n",
    "\n",
    "</div>\n",
    "\n",
    "*****\n",
    "\n",
    "<div class='notice--success alert alert-info' markdown=\"1\">\n",
    "\n",
    "<i class=\"fa fa-star\"></i> **Data Tip:** Subtract Rasters\n",
    "\n",
    "Learn more  <a href=\"http://www.earthdatascience.org/courses/use-data-open-source-python/intro-raster-data-python/raster-data-processing/subtract-rasters-in-python/\" >about subtracting raster data in this earthdatascience.org lesson.</a>\n",
    "</div>\n"
   ]
  },
  {
   "cell_type": "code",
   "execution_count": null,
   "metadata": {},
   "outputs": [],
   "source": [
    "# Subtract the rasters and plot the output\n"
   ]
  },
  {
   "cell_type": "markdown",
   "metadata": {},
   "source": [
    "<div class=\"notice--warning alert alert-info\" markdown=\"1\">\n",
    "\n",
    "## <i class=\"fa fa-pencil-square-o\" aria-hidden=\"true\"></i> Challenge 4 (Optional): Open Post Flood Raster \n",
    "\n",
    "\n",
    "Above, you opened up a lidar derived Digital Terrain Model (DTM or DEM) that was created from data collected\n",
    "before the 2013 flood. In the post-flood directory, you will find a DTM containing \n",
    "data collected after the 2013 flood. \n",
    "\n",
    "Create a figure with two plots.\n",
    "\n",
    "IN the first subplot, plot the pre-flood data that you opened above.\n",
    "In the second subplot, open and plot the post-flood DTM data. You wil\n",
    "find the file `post_DTM.tif` in the post-flood directory of your \n",
    "colorado-flood dataset downloaded using earthpy. \n",
    "\n",
    "* Add a super title (a title for the entire figure) using `plt.suptitle(\"Title Here\")`\n",
    "* Adjust the location of your suptitle `plt.tight_layout(rect=[0, 0.03, 1, 0.9])`\n",
    "\n",
    "\n",
    "\n",
    "</div>"
   ]
  },
  {
   "cell_type": "code",
   "execution_count": null,
   "metadata": {
    "tags": [
     "hide"
    ]
   },
   "outputs": [],
   "source": [
    "# Define relative path to file\n",
    "dem_post_path = os.path.join(\"colorado-flood\",\n",
    "                             \"spatial\",\n",
    "                             \"boulder-leehill-rd\",\n",
    "                             \"post-flood\",\n",
    "                             \"lidar\",\n",
    "                             \"post_DTM.tif\")\n",
    "\n",
    "# Open the file using a context manager (\"with rio.open\" statement) and plot both rasters"
   ]
  }
 ],
 "metadata": {
  "anaconda-cloud": {},
  "celltoolbar": "Tags",
  "kernelspec": {
   "display_name": "Python 3",
   "language": "python",
   "name": "python3"
  },
  "language_info": {
   "codemirror_mode": {
    "name": "ipython",
    "version": 3
   },
   "file_extension": ".py",
   "mimetype": "text/x-python",
   "name": "python",
   "nbconvert_exporter": "python",
   "pygments_lexer": "ipython3",
   "version": "3.7.6"
  },
  "toc": {
   "base_numbering": 1,
   "nav_menu": {},
   "number_sections": true,
   "sideBar": true,
   "skip_h1_title": false,
   "title_cell": "Table of Contents",
   "title_sidebar": "Contents",
   "toc_cell": false,
   "toc_position": {
    "height": "calc(100% - 180px)",
    "left": "10px",
    "top": "150px",
    "width": "165px"
   },
   "toc_section_display": true,
   "toc_window_display": true
  },
  "varInspector": {
   "cols": {
    "lenName": 16,
    "lenType": 16,
    "lenVar": 40
   },
   "kernels_config": {
    "python": {
     "delete_cmd_postfix": "",
     "delete_cmd_prefix": "del ",
     "library": "var_list.py",
     "varRefreshCmd": "print(var_dic_list())"
    },
    "r": {
     "delete_cmd_postfix": ") ",
     "delete_cmd_prefix": "rm(",
     "library": "var_list.r",
     "varRefreshCmd": "cat(var_dic_list()) "
    }
   },
   "types_to_exclude": [
    "module",
    "function",
    "builtin_function_or_method",
    "instance",
    "_Feature"
   ],
   "window_display": false
  }
 },
 "nbformat": 4,
 "nbformat_minor": 2
}
